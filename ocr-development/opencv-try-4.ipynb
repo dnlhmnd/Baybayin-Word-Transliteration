{
 "cells": [
  {
   "cell_type": "code",
   "execution_count": 1,
   "id": "9ad84401",
   "metadata": {},
   "outputs": [],
   "source": [
    "import matplotlib.pyplot as plt\n",
    "import numpy as np\n",
    "import cv2\n",
    "\n",
    "import warnings\n",
    "warnings.simplefilter('ignore')"
   ]
  },
  {
   "cell_type": "code",
   "execution_count": 2,
   "id": "b535bf0e",
   "metadata": {},
   "outputs": [
    {
     "data": {
      "text/plain": [
       "<matplotlib.image.AxesImage at 0x280b822acd0>"
      ]
     },
     "execution_count": 2,
     "metadata": {},
     "output_type": "execute_result"
    },
    {
     "data": {
      "image/png": "[encoded data removed]",
      "text/plain": [
       "<Figure size 432x288 with 1 Axes>"
      ]
     },
     "metadata": {
      "needs_background": "light"
     },
     "output_type": "display_data"
    }
   ],
   "source": [
    "image_file = '../Test/MAKISIG.jpg'\n",
    "image_test = cv2.imread(image_file)\n",
    "image_test = cv2.cvtColor(image_test, cv2.COLOR_BGR2RGB)\n",
    "plt.imshow(image_test)"
   ]
  },
  {
   "cell_type": "code",
   "execution_count": 7,
   "id": "8c219806",
   "metadata": {},
   "outputs": [],
   "source": [
    "def digits_finder(image_file: str, erode_kernel=42, threshold_basic=100, out_size=32):\n",
    "    # Find digits on the image_file and transform it to [-1, out_size, out_size, 1]\n",
    "    \n",
    "    image_test = cv2.imread(image_file)\n",
    "    gray_test = cv2.cvtColor(image_test, cv2.COLOR_BGR2GRAY)\n",
    "    ret, thresh = cv2.threshold(gray_test, threshold_basic, 255, cv2.THRESH_BINARY)\n",
    "    image_erode = cv2.erode(thresh, np.ones((erode_kernel, erode_kernel), np.uint8), iterations=1)\n",
    "\n",
    "    # Find contours\n",
    "    contours, hierarchy = cv2.findContours(image_erode, cv2.RETR_TREE, cv2.CHAIN_APPROX_SIMPLE)\n",
    "    contours = sorted(contours, key = cv2.contourArea, reverse = True)\n",
    "    output = image_erode.copy()\n",
    "\n",
    "    digits = []\n",
    "    j = 0\n",
    "    labels = []\n",
    "    for idx, contour in enumerate(contours):\n",
    "        (x, y, w, h) = cv2.boundingRect(contour)\n",
    "        #if (hierarchy[0][idx][3] == 0):\n",
    "        if (hierarchy[0][idx][3] == 0) and (w*h>3000):\n",
    "            cv2.rectangle(output, (x, y), (x + w, y + h), (70, 0, 0), 1)\n",
    "            digit_crop = image_erode[y:y + h, x:x + w]\n",
    "\n",
    "            # Resize digit canvas to square\n",
    "            size_max = max(w, h)\n",
    "            print(j, w*h)\n",
    "            digit_square = 255 * np.ones(shape=[size_max, size_max], dtype=np.uint8)\n",
    "            if w > h:\n",
    "                y_pos = size_max//2 - h//2\n",
    "                digit_square[y_pos:y_pos + h, 0:w] = digit_crop\n",
    "            elif w < h:\n",
    "                x_pos = size_max//2 - w//2\n",
    "                digit_square[0:h, x_pos:x_pos + w] = digit_crop\n",
    "            else:\n",
    "                digit_square = digit_crop\n",
    "            \n",
    "            # Resize digit to 28x28 and add digit and its X-coordinate\n",
    "            digits.append((x,(cv2.resize(digit_square, (out_size, out_size), interpolation=cv2.INTER_AREA))))\n",
    "            labels.append(str(j))\n",
    "            j += 1\n",
    "            \n",
    "\n",
    "    # Sort array in place by X-coordinate\n",
    "    digits.sort(key=lambda x: x[0], reverse=False)\n",
    "    \n",
    "    # Tranform digits to tensor\n",
    "    digits_new =[]\n",
    "    for i in range(len(digits)):\n",
    "        digits_new.append(digits[i][1])\n",
    "    digits_res = np.reshape(digits_new, (j, 32, 32, 1))\n",
    "    digits_res = np.where(digits_res > 225, 255, digits_res)\n",
    "    digits_res = np.where(digits_res < 125, 0, digits_res)\n",
    "\n",
    "    return digits_res, labels"
   ]
  },
  {
   "cell_type": "code",
   "execution_count": 8,
   "id": "42f8ab97",
   "metadata": {},
   "outputs": [
    {
     "name": "stdout",
     "output_type": "stream",
     "text": [
      "0 9545\n",
      "1 9430\n",
      "2 11760\n",
      "3 9379\n"
     ]
    }
   ],
   "source": [
    "X_user_test, Y_user_test = digits_finder(image_file, erode_kernel=5, threshold_basic=100)"
   ]
  },
  {
   "cell_type": "code",
   "execution_count": 9,
   "id": "a6592819",
   "metadata": {},
   "outputs": [],
   "source": [
    "def plot_images_test(X, Y):\n",
    "    # Draw plot for images sample\n",
    "    \n",
    "    plt.figure(figsize=(10,10))\n",
    "    plt.gray()\n",
    "    for i in range(len(Y)):        \n",
    "        plt.subplot(1,len(Y),i+1)\n",
    "        plt.xticks([])\n",
    "        plt.yticks([])\n",
    "        plt.grid(False)\n",
    "        plt.imshow(np.squeeze(X[i]))\n",
    "        plt.xlabel(Y[i])\n",
    "    plt.show()"
   ]
  },
  {
   "cell_type": "code",
   "execution_count": 10,
   "id": "97409010",
   "metadata": {},
   "outputs": [
    {
     "data": {
      "image/png": "[encoded data removed]",
      "text/plain": [
       "<Figure size 720x720 with 4 Axes>"
      ]
     },
     "metadata": {},
     "output_type": "display_data"
    }
   ],
   "source": [
    "plot_images_test(X_user_test, Y_user_test)"
   ]
  },
  {
   "cell_type": "code",
   "execution_count": null,
   "id": "db760ec8",
   "metadata": {},
   "outputs": [],
   "source": []
  }
 ],
 "metadata": {
  "kernelspec": {
   "display_name": "Python 3.8 (tensorflow)",
   "language": "python",
   "name": "tensorflow"
  },
  "language_info": {
   "codemirror_mode": {
    "name": "ipython",
    "version": 3
   },
   "file_extension": ".py",
   "mimetype": "text/x-python",
   "name": "python",
   "nbconvert_exporter": "python",
   "pygments_lexer": "ipython3",
   "version": "3.8.11"
  }
 },
 "nbformat": 4,
 "nbformat_minor": 5
}
