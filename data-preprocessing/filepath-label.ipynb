{
 "cells": [
  {
   "cell_type": "code",
   "execution_count": 1,
   "id": "c5fc4c1d",
   "metadata": {},
   "outputs": [],
   "source": [
    "import os\n",
    "import pandas as pd\n",
    "import os"
   ]
  },
  {
   "cell_type": "code",
   "execution_count": 10,
   "id": "a97a6880",
   "metadata": {},
   "outputs": [
    {
     "name": "stdout",
     "output_type": "stream",
     "text": [
      "Number of pictures: 59000\n",
      "\n",
      "Number of different labels: 59\n",
      "\n",
      "Labels: ['e_i' 'ma' 'we_wi' 'pe_pi' 'so_su' 'ka' 'g' 'wa' 'k' 'a' 'no_nu' 'to_tu'\n",
      " 'he_hi' 'm' 'wo_wu' 'ga' 'nga' 'lo_lu' 'ba' 'te_ti' 'pa' 'ng' 'y' 'bo_bu'\n",
      " 'ta' 'ko_ku' 'ya' 'p' 'de_di' 'na' 'be_bi' 't' 'do_du' 's' 'go_gu' 'w'\n",
      " 'le_li' 'me_mi' 'ha' 'ye_yi' 'h' 'ne_ni' 'mo_mu' 'ke_ki' 'sa' 'nge_ngi'\n",
      " 'ho_hu' 'da' 'se_si' 'la' 'o_u' 'po_pu' 'l' 'd' 'b' 'ngo_ngu' 'n' 'yo_yu'\n",
      " 'ge_gi']\n"
     ]
    },
    {
     "data": {
      "text/html": [
       "<div>\n",
       "<style scoped>\n",
       "    .dataframe tbody tr th:only-of-type {\n",
       "        vertical-align: middle;\n",
       "    }\n",
       "\n",
       "    .dataframe tbody tr th {\n",
       "        vertical-align: top;\n",
       "    }\n",
       "\n",
       "    .dataframe thead th {\n",
       "        text-align: right;\n",
       "    }\n",
       "</style>\n",
       "<table border=\"1\" class=\"dataframe\">\n",
       "  <thead>\n",
       "    <tr style=\"text-align: right;\">\n",
       "      <th></th>\n",
       "      <th>Filepath</th>\n",
       "      <th>Label</th>\n",
       "    </tr>\n",
       "  </thead>\n",
       "  <tbody>\n",
       "    <tr>\n",
       "      <th>0</th>\n",
       "      <td>..\\Datasets\\dataset\\Grouped\\e_i\\e_i (406).jpg</td>\n",
       "      <td>e_i</td>\n",
       "    </tr>\n",
       "    <tr>\n",
       "      <th>1</th>\n",
       "      <td>..\\Datasets\\dataset\\Grouped\\ma\\ma (991).jpg</td>\n",
       "      <td>ma</td>\n",
       "    </tr>\n",
       "    <tr>\n",
       "      <th>2</th>\n",
       "      <td>..\\Datasets\\dataset\\Grouped\\we_wi\\we_wi (920).jpg</td>\n",
       "      <td>we_wi</td>\n",
       "    </tr>\n",
       "    <tr>\n",
       "      <th>3</th>\n",
       "      <td>..\\Datasets\\dataset\\Grouped\\pe_pi\\pe_pi (216).jpg</td>\n",
       "      <td>pe_pi</td>\n",
       "    </tr>\n",
       "    <tr>\n",
       "      <th>4</th>\n",
       "      <td>..\\Datasets\\dataset\\Grouped\\so_su\\so_su (51).jpg</td>\n",
       "      <td>so_su</td>\n",
       "    </tr>\n",
       "  </tbody>\n",
       "</table>\n",
       "</div>"
      ],
      "text/plain": [
       "                                            Filepath  Label\n",
       "0      ..\\Datasets\\dataset\\Grouped\\e_i\\e_i (406).jpg    e_i\n",
       "1        ..\\Datasets\\dataset\\Grouped\\ma\\ma (991).jpg     ma\n",
       "2  ..\\Datasets\\dataset\\Grouped\\we_wi\\we_wi (920).jpg  we_wi\n",
       "3  ..\\Datasets\\dataset\\Grouped\\pe_pi\\pe_pi (216).jpg  pe_pi\n",
       "4   ..\\Datasets\\dataset\\Grouped\\so_su\\so_su (51).jpg  so_su"
      ]
     },
     "execution_count": 10,
     "metadata": {},
     "output_type": "execute_result"
    }
   ],
   "source": [
    "def proc_img(filepath):\n",
    "    \"\"\" Create a DataFrame with the filepath and the labels of the pictures\n",
    "    \"\"\"\n",
    "\n",
    "    labels = list(map(lambda x: os.path.split(os.path.split(x)[0])[1], filepath))\n",
    "\n",
    "    filepath = pd.Series(filepath, name='Filepath').astype(str)\n",
    "    labels = pd.Series(labels, name='Label')\n",
    "\n",
    "    # Concatenate filepaths and labels\n",
    "    df = pd.concat([filepath, labels], axis=1)\n",
    "\n",
    "    # Shuffle the DataFrame and reset index\n",
    "    df = df.sample(frac=1).reset_index(drop = True)\n",
    "    \n",
    "    return df\n",
    "\n",
    "# Create a list with the filepaths\n",
    "train_dir = Path('../Datasets/dataset/Grouped')\n",
    "filepaths = list(train_dir.glob(r'**/*.jpg'))\n",
    "\n",
    "# Create a DataFrame with the filepaths and the labels of the picture\n",
    "df = proc_img(filepaths)\n",
    "\n",
    "print(f'Number of pictures: {df.shape[0]}\\n')\n",
    "print(f'Number of different labels: {len(df.Label.unique())}\\n')\n",
    "print(f'Labels: {df.Label.unique()}')\n",
    "\n",
    "# The DataFrame with the filepaths in one column and the labels in the other one\n",
    "df.head(5)"
   ]
  },
  {
   "cell_type": "code",
   "execution_count": null,
   "id": "ffab38b6",
   "metadata": {},
   "outputs": [],
   "source": []
  }
 ],
 "metadata": {
  "kernelspec": {
   "display_name": "Python 3.8 (tensorflow)",
   "language": "python",
   "name": "tensorflow"
  },
  "language_info": {
   "codemirror_mode": {
    "name": "ipython",
    "version": 3
   },
   "file_extension": ".py",
   "mimetype": "text/x-python",
   "name": "python",
   "nbconvert_exporter": "python",
   "pygments_lexer": "ipython3",
   "version": "3.8.11"
  }
 },
 "nbformat": 4,
 "nbformat_minor": 5
}
