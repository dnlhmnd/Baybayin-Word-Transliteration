{
 "cells": [
  {
   "cell_type": "code",
   "execution_count": 1,
   "id": "99fe9a1c",
   "metadata": {},
   "outputs": [],
   "source": [
    "import pandas as pd\n",
    "import os"
   ]
  },
  {
   "cell_type": "code",
   "execution_count": 2,
   "id": "63b6374b",
   "metadata": {},
   "outputs": [],
   "source": [
    "filenames = os.listdir('../dataset')\n",
    "\n",
    "categories = []\n",
    "for filename in filenames:\n",
    "    category = filename.split(' ')[0]\n",
    "    if category == 'a': \n",
    "        categories.append(0)\n",
    "    elif category == 'b': \n",
    "        categories.append(1)\n",
    "    elif category == 'ba':\n",
    "        categories.append(2)\n",
    "    elif category == 'be_bi':\n",
    "        categories.append(3)\n",
    "    elif category == 'bo_bu':\n",
    "        categories.append(4)\n",
    "    elif category == 'd_r': \n",
    "        categories.append(5)\n",
    "    elif category == 'da':\n",
    "        categories.append(6)\n",
    "    elif category == 'de_di':\n",
    "        categories.append(7)\n",
    "    elif category == 'do_du':\n",
    "        categories.append(8)\n",
    "    elif category == 'e_i': \n",
    "        categories.append(9)\n",
    "    elif category == 'g':\n",
    "        categories.append(10)\n",
    "    elif category == 'ga':\n",
    "        categories.append(11)\n",
    "    elif category == 'ge_gi':\n",
    "        categories.append(12)\n",
    "    elif category == 'go_gu': \n",
    "        categories.append(13)\n",
    "    elif category == 'h':\n",
    "        categories.append(14)\n",
    "    elif category == 'ha':\n",
    "        categories.append(15)\n",
    "    elif category == 'he_hi':\n",
    "        categories.append(16)\n",
    "    elif category == 'ho_hu': \n",
    "        categories.append(17)\n",
    "    elif category == 'k':\n",
    "        categories.append(18)\n",
    "    elif category == 'ka':\n",
    "        categories.append(19)\n",
    "    elif category == 'ke_ki':\n",
    "        categories.append(20)\n",
    "    elif category == 'ko_ku': \n",
    "        categories.append(21)\n",
    "    elif category == 'l':\n",
    "        categories.append(22)\n",
    "    elif category == 'la':\n",
    "        categories.append(23)\n",
    "    elif category == 'le_li':\n",
    "        categories.append(24)\n",
    "    elif category == 'lo_lu': \n",
    "        categories.append(25)\n",
    "    elif category == 'm':\n",
    "        categories.append(26)\n",
    "    elif category == 'ma':\n",
    "        categories.append(27)\n",
    "    elif category == 'me_mi':\n",
    "        categories.append(28)\n",
    "    elif category == 'mo_mu': \n",
    "        categories.append(29)\n",
    "    elif category == 'n':\n",
    "        categories.append(30)\n",
    "    elif category == 'na':\n",
    "        categories.append(31)\n",
    "    elif category == 'ne_ni':\n",
    "        categories.append(32)\n",
    "    elif category == 'no_nu':\n",
    "        categories.append(33)\n",
    "    elif category == 'ng': \n",
    "        categories.append(34)\n",
    "    elif category == 'nga':\n",
    "        categories.append(35)\n",
    "    elif category == 'nge_ngi':\n",
    "        categories.append(36)\n",
    "    elif category == 'ngo_ngu': \n",
    "        categories.append(37)\n",
    "    elif category == 'o_u':\n",
    "        categories.append(38)\n",
    "    elif category == 'p':\n",
    "        categories.append(39)\n",
    "    elif category == 'pa':\n",
    "        categories.append(40)\n",
    "    elif category == 'pe_pi': \n",
    "        categories.append(41)\n",
    "    elif category == 'po_pu':\n",
    "        categories.append(42)\n",
    "    elif category == 's':\n",
    "        categories.append(43)\n",
    "    elif category == 'sa':\n",
    "        categories.append(44)\n",
    "    elif category == 'se_si': \n",
    "        categories.append(45)\n",
    "    elif category == 'so_su':\n",
    "        categories.append(46)\n",
    "    elif category == 't':\n",
    "        categories.append(47)\n",
    "    elif category == 'ta':\n",
    "        categories.append(48)   \n",
    "    elif category == 'te_ti': \n",
    "        categories.append(49)\n",
    "    elif category == 'to_tu':\n",
    "        categories.append(50)\n",
    "    elif category == 'w':\n",
    "        categories.append(51)\n",
    "    elif category == 'wa':\n",
    "        categories.append(52)\n",
    "    elif category == 'we_wi': \n",
    "        categories.append(53)\n",
    "    elif category == 'wo_wu':\n",
    "        categories.append(54)\n",
    "    elif category == 'y':\n",
    "        categories.append(55)\n",
    "    elif category == 'ya':\n",
    "        categories.append(56)\n",
    "    elif category == 'ye_yi': \n",
    "        categories.append(57)\n",
    "    elif category == 'yo_yu':\n",
    "        categories.append(58)\n",
    "    else:\n",
    "        categories.append(59)\n",
    "        \n",
    "df = pd.DataFrame({'filename': filenames, 'character': categories})"
   ]
  },
  {
   "cell_type": "code",
   "execution_count": 3,
   "id": "eb920268",
   "metadata": {},
   "outputs": [],
   "source": [
    "df[\"character\"] = df[\"character\"].replace({ 0:'a',1:'b', 2:'ba',3:'bi',4:'bo',5:'d',6:'da',7:'di',8:'do',9:'e',10:'g',\n",
    "                                         11:'ga',12:'gi',13:'gu',14:'h',15:'ha',16:'hi',17:'ho',18:'k',19:'ka',20:'ki',\n",
    "                                         21:'ko',22:'l',23:'la',24:'li',25:'lu',26:'m',27:'ma',28:'mi',29:'mu',30:'n',\n",
    "                                         31:'na',32:'ni',33:'no',34:'ng',35:'nga',36:'ngi',37:'ngu',38:'o',39:'p',40:'pa',\n",
    "                                         41:'pi',42:'pu',43:'s',44:'sa',45:'si',46:'su',47:'t',48:'ta',49:'ti',50:'tu',\n",
    "                                         51:'w',52:'wa',53:'wi',54:'wo',55:'y',56:'ya',57:'ye',58:'yo',59:'misc'})"
   ]
  },
  {
   "cell_type": "code",
   "execution_count": 4,
   "id": "37882e58",
   "metadata": {},
   "outputs": [
    {
     "data": {
      "text/plain": [
       "<AxesSubplot:>"
      ]
     },
     "execution_count": 4,
     "metadata": {},
     "output_type": "execute_result"
    },
    {
     "data": {
      "image/png": "[encoded data removed]",
      "text/plain": [
       "<Figure size 1080x360 with 1 Axes>"
      ]
     },
     "metadata": {
      "needs_background": "light"
     },
     "output_type": "display_data"
    }
   ],
   "source": [
    "df['character'].value_counts().plot.bar(figsize=(15,5))"
   ]
  },
  {
   "cell_type": "code",
   "execution_count": 6,
   "id": "aa711868",
   "metadata": {},
   "outputs": [],
   "source": [
    "df.to_csv('image-label.csv')"
   ]
  },
  {
   "cell_type": "code",
   "execution_count": null,
   "id": "aa435c5f",
   "metadata": {},
   "outputs": [],
   "source": []
  }
 ],
 "metadata": {
  "kernelspec": {
   "display_name": "Python 3.8 (tensorflow)",
   "language": "python",
   "name": "tensorflow"
  },
  "language_info": {
   "codemirror_mode": {
    "name": "ipython",
    "version": 3
   },
   "file_extension": ".py",
   "mimetype": "text/x-python",
   "name": "python",
   "nbconvert_exporter": "python",
   "pygments_lexer": "ipython3",
   "version": "3.8.11"
  }
 },
 "nbformat": 4,
 "nbformat_minor": 5
}
