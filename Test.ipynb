{
 "cells": [
  {
   "cell_type": "code",
   "execution_count": 1,
   "id": "2ade9582",
   "metadata": {},
   "outputs": [
    {
     "data": {
      "text/html": [
       "        <script type=\"text/javascript\">\n",
       "        window.PlotlyConfig = {MathJaxConfig: 'local'};\n",
       "        if (window.MathJax) {MathJax.Hub.Config({SVG: {font: \"STIX-Web\"}});}\n",
       "        if (typeof require !== 'undefined') {\n",
       "        require.undef(\"plotly\");\n",
       "        requirejs.config({\n",
       "            paths: {\n",
       "                'plotly': ['https://cdn.plot.ly/plotly-2.4.2.min']\n",
       "            }\n",
       "        });\n",
       "        require(['plotly'], function(Plotly) {\n",
       "            window._Plotly = Plotly;\n",
       "        });\n",
       "        }\n",
       "        </script>\n",
       "        "
      ]
     },
     "metadata": {},
     "output_type": "display_data"
    }
   ],
   "source": [
    "import pandas as pd\n",
    "import numpy as np\n",
    "import sys\n",
    "import os\n",
    "import random\n",
    "from pathlib import Path\n",
    "import imageio\n",
    "import skimage\n",
    "import skimage.io\n",
    "import skimage.transform\n",
    "import matplotlib.pyplot as plt\n",
    "import tensorflow.keras as keras\n",
    "import seaborn as sns\n",
    "import plotly.graph_objs as go\n",
    "import plotly.figure_factory as ff\n",
    "from plotly import tools\n",
    "from plotly.offline import download_plotlyjs, init_notebook_mode, plot, iplot\n",
    "init_notebook_mode(connected=True)\n",
    "import scipy\n",
    "from sklearn.model_selection import train_test_split\n",
    "from sklearn import metrics\n",
    "from keras import optimizers\n",
    "from keras.models import Sequential\n",
    "from keras.layers import Dense, Conv2D, Flatten, MaxPool2D, Dropout, BatchNormalization,LeakyReLU\n",
    "from keras.preprocessing.image import ImageDataGenerator\n",
    "from keras.callbacks import ModelCheckpoint, Callback, EarlyStopping, ReduceLROnPlateau, LearningRateScheduler\n",
    "from tensorflow.keras.utils import to_categorical\n",
    "from tensorflow.keras.models import Sequential\n",
    "from tensorflow.keras.layers import Dense, Conv2D, Flatten, Dropout, MaxPooling2D, ZeroPadding2D, BatchNormalization\n",
    "from tensorflow.keras.preprocessing.image import ImageDataGenerator\n",
    "import tensorflow as tf\n",
    "import tensorflow_addons as tfa\n",
    "import warnings\n",
    "warnings.filterwarnings(\"ignore\", category=DeprecationWarning)"
   ]
  },
  {
   "cell_type": "code",
   "execution_count": 2,
   "id": "a6d6a609",
   "metadata": {},
   "outputs": [],
   "source": [
    "from tensorflow.keras.models import load_model\n",
    "model = load_model('../Baybayin OCR/OCR try/BRM.h5')\n",
    "def get_predictions(X_test):\n",
    " \n",
    "    predictions = model.predict(X_test)    \n",
    "    predictions = np.argmax(predictions, axis=1)\n",
    "    \n",
    "    return predictions"
   ]
  },
  {
   "cell_type": "code",
   "execution_count": 3,
   "id": "bfe34923",
   "metadata": {},
   "outputs": [
    {
     "data": {
      "image/png": "[encoded data removed]",
      "text/plain": [
       "<Figure size 432x288 with 1 Axes>"
      ]
     },
     "metadata": {
      "needs_background": "light"
     },
     "output_type": "display_data"
    }
   ],
   "source": [
    "import cv2\n",
    "image_file = 'C:/Users/Daniel/Desktop/Thesis Project/Baybayin OCR/Test/KALIKASAN.jpg'\n",
    "image_test = cv2.imread(image_file)\n",
    "plt.imshow(image_test)\n",
    "plt.show()"
   ]
  },
  {
   "cell_type": "code",
   "execution_count": 4,
   "id": "3f28ef15",
   "metadata": {},
   "outputs": [],
   "source": [
    "def sort_contours(cnts, method=\"left-to-right\"):\n",
    "    reverse = False\n",
    "    i = 0\n",
    "    if method == \"right-to-left\" or method == \"bottom-to-top\":\n",
    "        reverse = True\n",
    "    if method == \"top-to-bottom\" or method == \"bottom-to-top\":\n",
    "        i = 1\n",
    "    boundingBoxes = [cv2.boundingRect(c) for c in cnts]\n",
    "    (cnts, boundingBoxes) = zip(*sorted(zip(cnts, boundingBoxes),\n",
    "    key=lambda b:b[1][i], reverse=reverse))\n",
    "    # return the list of sorted contours and bounding boxes\n",
    "    return (cnts, boundingBoxes)"
   ]
  },
  {
   "cell_type": "code",
   "execution_count": 5,
   "id": "edc4fd45",
   "metadata": {},
   "outputs": [],
   "source": [
    "import imutils\n",
    "def char_finder(image_file: str, out_size=32):\n",
    "\n",
    "    image = cv2.imread(image_file)\n",
    "    gray = cv2.cvtColor(image, cv2.COLOR_BGR2GRAY)\n",
    "#     blurred = cv2.GaussianBlur(gray, (3, 33), 0)\n",
    "    thresh1 = cv2.threshold(gray ,120,255,cv2.THRESH_BINARY_INV)[1]\n",
    "    kernel = cv2.getStructuringElement(cv2.MORPH_RECT, (1,25))\n",
    "    dilated = cv2.dilate(thresh1, kernel, iterations=1)\n",
    "    \n",
    "    cnts = cv2.findContours(dilated.copy(), cv2.RETR_EXTERNAL,cv2.CHAIN_APPROX_SIMPLE)\n",
    "    cnts = imutils.grab_contours(cnts)\n",
    "    cnts = sort_contours(cnts, method=\"left-to-right\")[0]\n",
    "    \n",
    "    char = []\n",
    "    j = 0\n",
    "    labels = []\n",
    "    for c in cnts:\n",
    "        if cv2.contourArea(c) > 10:\n",
    "            (x, y, w, h) = cv2.boundingRect(c)\n",
    "            cv2.rectangle(image, (x, y), (x + w, y + h), (0, 255, 0), 2)\n",
    "            digit_crop = gray[y:y + h, x:x + w]\n",
    "\n",
    "        size_max = max(w, h)\n",
    "        print(j, w*h)\n",
    "        digit_square = 255 * np.ones(shape=[size_max, size_max], dtype=np.uint8)\n",
    "        if w > h:\n",
    "            y_pos = size_max//2 - h//2\n",
    "            digit_square[y_pos:y_pos + h, 0:w] = digit_crop\n",
    "        elif w < h:\n",
    "            x_pos = size_max//2 - w//2\n",
    "            digit_square[0:h, x_pos:x_pos + w] = digit_crop\n",
    "        else:\n",
    "            digit_square = digit_crop\n",
    "\n",
    "        # Resize digit to 28x28 and add digit and its X-coordinate\n",
    "        char.append((x,(cv2.resize(digit_square, (out_size, out_size), interpolation=cv2.INTER_AREA))))\n",
    "        labels.append(str(j))\n",
    "        j += 1 \n",
    "\n",
    "    # Sort array in place by X-coordinate\n",
    "    char.sort(key=lambda x: x[0], reverse=False)\n",
    "    \n",
    "    # Tranform digits to tensor\n",
    "    char_new =[]\n",
    "    for i in range(len(char)):\n",
    "        char_new.append(char[i][1])\n",
    "    char_res = np.reshape(char_new, (j, 32, 32, 1))\n",
    "    char_res = np.where(char_res > 225, 255, char_res)\n",
    "    char_res = np.where(char_res < 125, 0, char_res)\n",
    "\n",
    "    return char_res, labels"
   ]
  },
  {
   "cell_type": "code",
   "execution_count": 6,
   "id": "eeacdafa",
   "metadata": {},
   "outputs": [
    {
     "name": "stdout",
     "output_type": "stream",
     "text": [
      "0 7921\n",
      "1 9191\n",
      "2 7921\n",
      "3 7920\n",
      "4 9720\n"
     ]
    }
   ],
   "source": [
    "X_user_test, Y_user_test = char_finder(image_file)"
   ]
  },
  {
   "cell_type": "code",
   "execution_count": 7,
   "id": "2bbf5eb0",
   "metadata": {},
   "outputs": [],
   "source": [
    "def plot_images_test(X, Y):\n",
    "    # Draw plot for images sample\n",
    "    \n",
    "    plt.figure(figsize=(10,10))\n",
    "    plt.gray()\n",
    "    for i in range(len(Y)):        \n",
    "        plt.subplot(1,len(Y),i+1)\n",
    "        plt.xticks([])\n",
    "        plt.yticks([])\n",
    "        plt.grid(False)\n",
    "        plt.imshow(np.squeeze(X[i]))\n",
    "        plt.xlabel(Y[i])\n",
    "    plt.show()"
   ]
  },
  {
   "cell_type": "code",
   "execution_count": 8,
   "id": "35c6b337",
   "metadata": {},
   "outputs": [
    {
     "data": {
      "image/png": "[encoded data removed]",
      "text/plain": [
       "<Figure size 720x720 with 5 Axes>"
      ]
     },
     "metadata": {},
     "output_type": "display_data"
    }
   ],
   "source": [
    "plot_images_test(X_user_test, Y_user_test)"
   ]
  },
  {
   "cell_type": "code",
   "execution_count": 9,
   "id": "85763f8b",
   "metadata": {},
   "outputs": [],
   "source": [
    "def fe_data(df, target):\n",
    "    # FE: scaling data ant transform target to categorical\n",
    "    df = df / 255.\n",
    "    target = to_categorical(target)\n",
    "    return df, target"
   ]
  },
  {
   "cell_type": "code",
   "execution_count": 10,
   "id": "c4106db8",
   "metadata": {},
   "outputs": [],
   "source": [
    "X_user_test, Y_user_test = fe_data(X_user_test, Y_user_test)"
   ]
  },
  {
   "cell_type": "code",
   "execution_count": 11,
   "id": "8e6949b2",
   "metadata": {},
   "outputs": [
    {
     "data": {
      "image/png": "[encoded data removed]",
      "text/plain": [
       "<Figure size 720x720 with 5 Axes>"
      ]
     },
     "metadata": {},
     "output_type": "display_data"
    }
   ],
   "source": [
    "predictions_user = get_predictions(X_user_test)\n",
    "plot_images_test(X_user_test, predictions_user)"
   ]
  },
  {
   "cell_type": "code",
   "execution_count": 12,
   "id": "883589b5",
   "metadata": {},
   "outputs": [],
   "source": [
    "pred_word1 = predictions_user.tolist()\n",
    "\n",
    "bay_chars = ({ 0:'a',1:'b', 2:'ba',3:'bi',4:'bo',5:'d',6:'da',7:'di',8:'do',9:'e',10:'g',\n",
    "               11:'ga',12:'gi',13:'gu',14:'h',15:'ha',16:'hi',17:'ho',18:'k',19:'ka',20:'ki',\n",
    "               21:'ko',22:'l',23:'la',24:'li',25:'lu',26:'m',27:'ma',28:'mi',29:'mu',30:'n',\n",
    "               31:'na',32:'ni',33:'no',34:'ng',35:'nga',36:'ngi',37:'ngu',38:'o',39:'p',40:'pa',\n",
    "               41:'pi',42:'pu',43:'s',44:'sa',45:'si',46:'su',47:'t',48:'ta',49:'ti',50:'tu',\n",
    "               51:'w',52:'wa',53:'wi',54:'wo',55:'y',56:'ya',57:'ye',58:'yo'})\n",
    "\n",
    "pred_word = [bay_chars[int(item)] for item in pred_word1]\n",
    "pred_word = (\"\".join(str(x) for x in pred_word))"
   ]
  },
  {
   "cell_type": "code",
   "execution_count": 13,
   "id": "8eb1e50b",
   "metadata": {},
   "outputs": [
    {
     "data": {
      "text/plain": [
       "'kalikasana'"
      ]
     },
     "execution_count": 13,
     "metadata": {},
     "output_type": "execute_result"
    }
   ],
   "source": [
    "pred_word"
   ]
  },
  {
   "cell_type": "code",
   "execution_count": 14,
   "id": "ee3503db",
   "metadata": {},
   "outputs": [],
   "source": [
    "import jellyfish\n",
    "with open(\"../Baybayin OCR/Translation/fil_corpus.txt\") as v:\n",
    "    text = v.read()\n",
    "    # To separate the 10,000 word list into separate strings\n",
    "    # Note: can replace this txt with better list for better results\n",
    "    words = text.splitlines()"
   ]
  },
  {
   "cell_type": "code",
   "execution_count": 15,
   "id": "6f265d74",
   "metadata": {},
   "outputs": [],
   "source": [
    "def word_corrector(word,words_list):\n",
    "    # creating a dictionnary where keys are words from words_list and values are levenshtein distance between key and word\n",
    "    dict_distances = {i:jellyfish.levenshtein_distance(word,i) for i in words_list}\n",
    "    # we return then the key with the lower value corresponding the the closest to word in terms of levenstein distance\n",
    "    return min(dict_distances, key=dict_distances.get)"
   ]
  },
  {
   "cell_type": "code",
   "execution_count": 16,
   "id": "a53a8957",
   "metadata": {},
   "outputs": [],
   "source": [
    "lev1 = word_corrector(pred_word,words)"
   ]
  },
  {
   "cell_type": "code",
   "execution_count": 17,
   "id": "6cf6132b",
   "metadata": {},
   "outputs": [],
   "source": [
    "def word_corrector_v3(word, words_list,threshold):\n",
    "    # creating a dictionnary where keys are words from words_list and values are levenshtein distance between key and word\n",
    "    dict_distances = {i:jellyfish.levenshtein_distance(word,i) for i in words_list if jellyfish.levenshtein_distance(word,i)<threshold}\n",
    "    return sorted(dict_distances,key = dict_distances.get)"
   ]
  },
  {
   "cell_type": "code",
   "execution_count": 18,
   "id": "ee7a4241",
   "metadata": {},
   "outputs": [],
   "source": [
    "lev2 = word_corrector_v3(pred_word,words,2)"
   ]
  },
  {
   "cell_type": "code",
   "execution_count": 19,
   "id": "3ac1881e",
   "metadata": {},
   "outputs": [
    {
     "name": "stdout",
     "output_type": "stream",
     "text": [
      "Translation:  Kalakasan\n"
     ]
    }
   ],
   "source": [
    "if pred_word in words:\n",
    "    print (\"Translation: \", pred_word.title())\n",
    "else:\n",
    "    print (\"Translation: \", lev1.title())\n",
    "    if lev1 in lev2:\n",
    "        lev2.remove(lev1)\n",
    "    if len(lev2) > 0:\n",
    "        print(\"Other possible translations: \")\n",
    "    for i in lev2:\n",
    "        if len(i) == len(pred_word):\n",
    "            print(i)"
   ]
  },
  {
   "cell_type": "code",
   "execution_count": null,
   "id": "87d95632",
   "metadata": {},
   "outputs": [],
   "source": []
  }
 ],
 "metadata": {
  "kernelspec": {
   "display_name": "Python 3.8 (tensorflow)",
   "language": "python",
   "name": "tensorflow"
  },
  "language_info": {
   "codemirror_mode": {
    "name": "ipython",
    "version": 3
   },
   "file_extension": ".py",
   "mimetype": "text/x-python",
   "name": "python",
   "nbconvert_exporter": "python",
   "pygments_lexer": "ipython3",
   "version": "3.8.11"
  }
 },
 "nbformat": 4,
 "nbformat_minor": 5
}
