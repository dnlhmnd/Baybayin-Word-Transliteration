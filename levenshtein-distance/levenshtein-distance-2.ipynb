{
 "cells": [
  {
   "cell_type": "code",
   "execution_count": 1,
   "id": "97c4ca4f",
   "metadata": {},
   "outputs": [],
   "source": [
    "with open(\"fil_corpus.txt\") as v:\n",
    "    text = v.read()\n",
    "    # To separate the 10,000 word list into separate strings\n",
    "    # Note: can replace this txt with better list for better results\n",
    "    words = text.splitlines()"
   ]
  },
  {
   "cell_type": "code",
   "execution_count": 2,
   "id": "30fefbe9",
   "metadata": {},
   "outputs": [],
   "source": [
    "import jellyfish"
   ]
  },
  {
   "cell_type": "code",
   "execution_count": 3,
   "id": "01ab633d",
   "metadata": {},
   "outputs": [],
   "source": [
    "pred_word = 'bente'"
   ]
  },
  {
   "cell_type": "code",
   "execution_count": 4,
   "id": "bc6d234e",
   "metadata": {},
   "outputs": [],
   "source": [
    "def word_corrector(word,words_list):\n",
    "  # creating a dictionnary where keys are words from words_list and values are levenshtein distance between key and word\n",
    "  dict_distances = {i:jellyfish.levenshtein_distance(word,i) for i in words_list}\n",
    "  # we return then the key with the lower value corresponding the the closest to word in terms of levenstein distance\n",
    "  return min(dict_distances, key=dict_distances.get)"
   ]
  },
  {
   "cell_type": "code",
   "execution_count": 5,
   "id": "a13cd55f",
   "metadata": {},
   "outputs": [],
   "source": [
    "lev1 = word_corrector(pred_word,words)"
   ]
  },
  {
   "cell_type": "code",
   "execution_count": 6,
   "id": "508c9da0",
   "metadata": {},
   "outputs": [
    {
     "data": {
      "text/plain": [
       "'bente'"
      ]
     },
     "execution_count": 6,
     "metadata": {},
     "output_type": "execute_result"
    }
   ],
   "source": [
    "lev1"
   ]
  },
  {
   "cell_type": "code",
   "execution_count": 7,
   "id": "d0a6b5f2",
   "metadata": {},
   "outputs": [],
   "source": [
    "def word_corrector_v3(word, words_list,threshold):\n",
    "  # creating a dictionnary where keys are words from words_list and values are levenshtein distance between key and word\n",
    "  dict_distances = {i:jellyfish.levenshtein_distance(word,i) for i in words_list if jellyfish.levenshtein_distance(word,i)<threshold}\n",
    "  return sorted(dict_distances,key = dict_distances.get)"
   ]
  },
  {
   "cell_type": "code",
   "execution_count": 8,
   "id": "a708dd18",
   "metadata": {},
   "outputs": [],
   "source": [
    "lev2 = word_corrector_v3(pred_word,words,2)\n",
    "# lev2 = [word.capitalize() for word in lev2]\n",
    "# lev2 = (', '.join(str(x) for x in lev2))"
   ]
  },
  {
   "cell_type": "code",
   "execution_count": 9,
   "id": "e37ca366",
   "metadata": {},
   "outputs": [
    {
     "data": {
      "text/plain": [
       "['bente', 'lente']"
      ]
     },
     "execution_count": 9,
     "metadata": {},
     "output_type": "execute_result"
    }
   ],
   "source": [
    "lev2"
   ]
  },
  {
   "cell_type": "code",
   "execution_count": 10,
   "id": "97beef77",
   "metadata": {},
   "outputs": [
    {
     "name": "stdout",
     "output_type": "stream",
     "text": [
      "Translation:  Bente\n"
     ]
    }
   ],
   "source": [
    "if pred_word in words:\n",
    "    print (\"Translation: \", pred_word.title())\n",
    "else:\n",
    "    print (\"Translation: \", lev1.title())\n",
    "    if lev1 in lev2:\n",
    "        lev2.remove(lev1)\n",
    "    if len(lev2) > 0:\n",
    "        print(\"Other possible translations: \")\n",
    "    for i in lev2:\n",
    "        if len(i) == len(pred_word):\n",
    "            print(i)"
   ]
  }
 ],
 "metadata": {
  "kernelspec": {
   "display_name": "Python 3.8 (tensorflow)",
   "language": "python",
   "name": "tensorflow"
  },
  "language_info": {
   "codemirror_mode": {
    "name": "ipython",
    "version": 3
   },
   "file_extension": ".py",
   "mimetype": "text/x-python",
   "name": "python",
   "nbconvert_exporter": "python",
   "pygments_lexer": "ipython3",
   "version": "3.8.11"
  }
 },
 "nbformat": 4,
 "nbformat_minor": 5
}
